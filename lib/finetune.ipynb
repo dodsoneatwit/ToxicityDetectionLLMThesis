{
 "cells": [
  {
   "cell_type": "code",
   "execution_count": 1,
   "metadata": {},
   "outputs": [],
   "source": [
    "# required imports/libraries\n",
    "import os\n",
    "import math\n",
    "import json\n",
    "import pandas as pd\n",
    "from dotenv import load_dotenv\n",
    "from openai import OpenAI"
   ]
  },
  {
   "cell_type": "markdown",
   "metadata": {},
   "source": [
    "#### Necessary pip installation commands include:\n",
    "- pip install os\n",
    "- pip install openai\n",
    "- pip install pandas\n",
    "- pip install python-dotenv\n",
    "\n",
    "#### <b>Note</b>: have a <b>.env</b> file already created for accessing API key\n"
   ]
  },
  {
   "cell_type": "code",
   "execution_count": 2,
   "metadata": {},
   "outputs": [],
   "source": [
    "# load .env file values \n",
    "load_dotenv()\n",
    "\n",
    "# insert OpenAI API key in here from .env\n",
    "FINE_TUNED_TOXIC_DETECTION_API_KEY = os.getenv(\"FINE_TUNED_TOXIC_DETECTION_API_KEY\")"
   ]
  },
  {
   "cell_type": "code",
   "execution_count": 3,
   "metadata": {},
   "outputs": [],
   "source": [
    "# instantiate OpenAI client with API key\n",
    "client = OpenAI(\n",
    "    api_key=FINE_TUNED_TOXIC_DETECTION_API_KEY\n",
    ")"
   ]
  },
  {
   "cell_type": "markdown",
   "metadata": {},
   "source": [
    "#### These next steps pull your preprocessed data into a valid format for fine-tuning. This includes:\n",
    "- reading data from csv file\n",
    "- transforming data into json format needed for fine-tuning by OpenAI's platform\n",
    "- splitting data into training and validation (even though this is not training, OpenAI uses this naming structure)\n",
    "- writing newly created formatted data to jsonl files"
   ]
  },
  {
   "cell_type": "code",
   "execution_count": 4,
   "metadata": {},
   "outputs": [],
   "source": [
    "# retrieve preprocessed set of choice for fine-tuning\n",
    "fine_tuning_set = pd.read_csv('./data/csv/toxic_classification_training_set.csv')"
   ]
  },
  {
   "cell_type": "code",
   "execution_count": 5,
   "metadata": {},
   "outputs": [],
   "source": [
    "training_json = []\n",
    "evaluation_prompt = ''\n",
    "# Read the evaluation prompt from the text file of choice with utf-8 encoding\n",
    "with open(\"./data/text/fine_tuned_prompts/gpt-3-5-1106-two-shot-prompt.txt\", \"r\", encoding=\"utf-8\") as file:\n",
    "    evaluation_prompt += file.read()"
   ]
  },
  {
   "cell_type": "code",
   "execution_count": 6,
   "metadata": {},
   "outputs": [],
   "source": [
    "# appends text and toxic values to a readable format for GPT models\n",
    "# can input prompt of choice within system->content through hard write or from file\n",
    "for index, row in fine_tuning_set.iterrows():\n",
    "    training_json.append({\n",
    "        \"messages\" : [\n",
    "            {\n",
    "                \"role\": \"system\", \n",
    "                \"content\": evaluation_prompt\n",
    "            },\n",
    "            {\n",
    "                \"role\": \"user\",\n",
    "                \"content\": row['Text']\n",
    "            },\n",
    "            {\n",
    "                \"role\": \"assistant\",\n",
    "                \"content\": str(row['Toxic'])\n",
    "            },\n",
    "        ]\n",
    "    })"
   ]
  },
  {
   "cell_type": "code",
   "execution_count": 7,
   "metadata": {},
   "outputs": [
    {
     "data": {
      "text/plain": [
       "2000"
      ]
     },
     "execution_count": 7,
     "metadata": {},
     "output_type": "execute_result"
    }
   ],
   "source": [
    "# half length of dataset\n",
    "half = math.floor(len(training_json) / 2)\n",
    "half"
   ]
  },
  {
   "cell_type": "code",
   "execution_count": 8,
   "metadata": {},
   "outputs": [],
   "source": [
    "# trains first half and validates second half\n",
    "training = training_json[:half]\n",
    "validation = training_json[half + 1:]"
   ]
  },
  {
   "cell_type": "code",
   "execution_count": 9,
   "metadata": {},
   "outputs": [],
   "source": [
    "# saves training and validation data to jsonl format for finetuning and validation\n",
    "with open('./data/jsonl/new_training_kaggle_toxic_classification_data.jsonl', 'w') as f:\n",
    "    for entry in training:\n",
    "        f.write(f\"{json.dumps(entry)}\\n\")\n",
    "\n",
    "with open('./data/jsonl/new_validation_kaggle_toxic_classification_data.jsonl', 'w') as f:\n",
    "    for entry in validation:\n",
    "        f.write(f\"{json.dumps(entry)}\\n\")"
   ]
  },
  {
   "cell_type": "markdown",
   "metadata": {},
   "source": [
    "#### Create fine-tuning files for storing within OpenAI platform\n",
    "#### visit <b>https://platform.openai.com/docs/guides/fine-tuning</b> to see how <b>.jsonl</b> files are formatted"
   ]
  },
  {
   "cell_type": "code",
   "execution_count": 10,
   "metadata": {},
   "outputs": [
    {
     "data": {
      "text/plain": [
       "FileObject(id='file-kJYVD13EjKaomidTppvhfbqS', bytes=1469663, created_at=1731294840, filename='new_validation_kaggle_toxic_classification_data.jsonl', object='file', purpose='fine-tune', status='processed', status_details=None)"
      ]
     },
     "execution_count": 10,
     "metadata": {},
     "output_type": "execute_result"
    }
   ],
   "source": [
    "# insert .jsonl validation and training files for fine-tuning\n",
    "client.files.create(\n",
    "  file=open(\"./data/jsonl/new_training_kaggle_toxic_classification_data.jsonl\", \"rb\"),\n",
    "  purpose=\"fine-tune\"\n",
    ")\n",
    "\n",
    "client.files.create(\n",
    "  file=open(\"./data/jsonl/new_validation_kaggle_toxic_classification_data.jsonl\", \"rb\"),\n",
    "  purpose=\"fine-tune\"\n",
    ")"
   ]
  },
  {
   "cell_type": "code",
   "execution_count": 11,
   "metadata": {},
   "outputs": [
    {
     "data": {
      "text/plain": [
       "SyncPage[FileObject](data=[FileObject(id='file-kJYVD13EjKaomidTppvhfbqS', bytes=1469663, created_at=1731294840, filename='new_validation_kaggle_toxic_classification_data.jsonl', object='file', purpose='fine-tune', status='processed', status_details=None), FileObject(id='file-NwP2wPPJskd1o7NRYF4a3k4U', bytes=1530740, created_at=1731294839, filename='new_training_kaggle_toxic_classification_data.jsonl', object='file', purpose='fine-tune', status='processed', status_details=None), FileObject(id='file-iUgNNVTLRkRONwd0x4wQxo0S', bytes=31340, created_at=1730099682, filename='step_metrics.csv', object='file', purpose='fine-tune-results', status='processed', status_details=None), FileObject(id='file-WPKuhg74ZjLRBriUMwpvBP26', bytes=1314247, created_at=1730097407, filename='unprocessed_two_thousand_validation_kaggle_toxic_classification_dataset.jsonl', object='file', purpose='fine-tune', status='processed', status_details=None), FileObject(id='file-vlOGiQQRCG6HmJajVHIjJxFu', bytes=1268455, created_at=1730097406, filename='unprocessed_two_thousand_training_kaggle_toxic_classification_dataset.jsonl', object='file', purpose='fine-tune', status='processed', status_details=None), FileObject(id='file-ha6eNWpQpU9VIyrAA7h3b1mJ', bytes=31888, created_at=1730093282, filename='step_metrics.csv', object='file', purpose='fine-tune-results', status='processed', status_details=None), FileObject(id='file-HPI70my3NvcIsEgnnSKJP445', bytes=1200903, created_at=1730090514, filename='two_half_thousand_validation_kaggle_toxic_classification_dataset.jsonl', object='file', purpose='fine-tune', status='processed', status_details=None), FileObject(id='file-aEDGQWAZl2D1787rmHqppPy9', bytes=1228164, created_at=1730090513, filename='two_half_thousand_training_kaggle_toxic_classification_dataset.jsonl', object='file', purpose='fine-tune', status='processed', status_details=None), FileObject(id='file-2gnXNgHOWktjccUN5mmiG9gw', bytes=1450234, created_at=1730090492, filename='three_thousand_validation_kaggle_toxic_classification_dataset.jsonl', object='file', purpose='fine-tune', status='processed', status_details=None), FileObject(id='file-vVruZmeNUWB9MDQMWULEdXDv', bytes=1469917, created_at=1730090491, filename='three_thousand_training_kaggle_toxic_classification_dataset.jsonl', object='file', purpose='fine-tune', status='processed', status_details=None), FileObject(id='file-4ThvqdccHg3npPI34SnlBZz4', bytes=33232, created_at=1730078475, filename='step_metrics.csv', object='file', purpose='fine-tune-results', status='processed', status_details=None), FileObject(id='file-LfEs4dr6i8a9NEVPfQLX4yQQ', bytes=1906194, created_at=1730075616, filename='four_thousand_validation_kaggle_toxic_classification_dataset.jsonl', object='file', purpose='fine-tune', status='processed', status_details=None), FileObject(id='file-AQxAJ0yOEcTcRHkwqdNDr3rv', bytes=1942706, created_at=1730075614, filename='four_thousand_training_kaggle_toxic_classification_dataset.jsonl', object='file', purpose='fine-tune', status='processed', status_details=None), FileObject(id='file-IV8B0CaY4CCDsCJcnQO1ggqV', bytes=31356, created_at=1730073669, filename='step_metrics.csv', object='file', purpose='fine-tune-results', status='processed', status_details=None), FileObject(id='file-3WO9DZOVRMHW8n8rAcmweJUJ', bytes=31396, created_at=1729287075, filename='step_metrics.csv', object='file', purpose='fine-tune-results', status='processed', status_details=None), FileObject(id='file-3N8ti1ScKNuSMze9ROqO4iV1', bytes=970886, created_at=1729284243, filename='two_thousand_validation_kaggle_toxic_classification_dataset.jsonl', object='file', purpose='fine-tune', status='processed', status_details=None), FileObject(id='file-mZiVOKQB1arwGYRjGVgqcNHS', bytes=971494, created_at=1729284242, filename='two_thousand_training_kaggle_toxic_classification_dataset.jsonl', object='file', purpose='fine-tune', status='processed', status_details=None), FileObject(id='file-IYW5X2D9wOtDsfj2v1LYbwZB', bytes=12400, created_at=1729282552, filename='step_metrics.csv', object='file', purpose='fine-tune-results', status='processed', status_details=None), FileObject(id='file-tbwvMobOm5zLmfRjMmx4kSkF', bytes=94484, created_at=1729281280, filename='two_hundred_validation_kaggle_toxic_classification_dataset.jsonl', object='file', purpose='fine-tune', status='processed', status_details=None), FileObject(id='file-NrRZdDRWgkeK5ta48fbDLlVF', bytes=97543, created_at=1729281280, filename='two_hundred_training_kaggle_toxic_classification_dataset.jsonl', object='file', purpose='fine-tune', status='processed', status_details=None), FileObject(id='file-feRD4R2Y4RJWfmIAOEKCDdNZ', bytes=3216, created_at=1729278757, filename='step_metrics.csv', object='file', purpose='fine-tune-results', status='processed', status_details=None), FileObject(id='file-tazMyfTVD71uo9VqFhETxnLm', bytes=28370, created_at=1729278224, filename='fifty_validation_kaggle_toxic_classification_dataset.jsonl', object='file', purpose='fine-tune', status='processed', status_details=None), FileObject(id='file-EZkLsIwrIvuJbTtCSe3dq59R', bytes=24485, created_at=1729278222, filename='fifty_training_kaggle_toxic_classification_dataset.jsonl', object='file', purpose='fine-tune', status='processed', status_details=None), FileObject(id='file-FJiUGNDM0BK8nVUKXLX2zLvl', bytes=41504, created_at=1727990170, filename='step_metrics.csv', object='file', purpose='fine-tune-results', status='processed', status_details=None), FileObject(id='file-UFWHTku5sU3K6GzVemhsZt0H', bytes=3847655, created_at=1727986652, filename='validation_kaggle_toxic_classification_dataset.jsonl', object='file', purpose='fine-tune', status='processed', status_details=None), FileObject(id='file-zX0Hx54u69Y73wTuxyDfTuLN', bytes=3838575, created_at=1727986651, filename='training_kaggle_toxic_classification_dataset.jsonl', object='file', purpose='fine-tune', status='processed', status_details=None), FileObject(id='file-5gCTWySFk0MgmOZ2YjQvyEZJ', bytes=41072, created_at=1727982441, filename='step_metrics.csv', object='file', purpose='fine-tune-results', status='processed', status_details=None), FileObject(id='file-FpwsaDITa0co3Z4sNvzknGGX', bytes=7686481, created_at=1727979219, filename='kaggle_toxic_classification_dataset.jsonl', object='file', purpose='fine-tune', status='processed', status_details=None), FileObject(id='file-gYnCm7EvYy3qnTJhpMJ5sNs7', bytes=78420036, created_at=1727915595, filename='kaggle_toxic_classification_dataset.jsonl', object='file', purpose='fine-tune', status='processed', status_details=None)], object='list', has_more=False, first_id='file-kJYVD13EjKaomidTppvhfbqS', last_id='file-gYnCm7EvYy3qnTJhpMJ5sNs7')"
      ]
     },
     "execution_count": 11,
     "metadata": {},
     "output_type": "execute_result"
    }
   ],
   "source": [
    "# use for checking for successful file(s) creation\n",
    "client.files.list()"
   ]
  },
  {
   "cell_type": "markdown",
   "metadata": {},
   "source": [
    "#### Created files are located within the <b>Storage</b> of your OpenAI Dashboard\n",
    "#### Link: <b>https://platform.openai.com/storage/files</b>\n",
    "\n",
    "#### Here are the successful models for fine-tuning:\n",
    "- <b>gpt-4o-2024-08-06</b>\n",
    "- <b>gpt-4o-mini-2024-07-18</b>\n",
    "- <b>gpt-4-0613</b>\n",
    "- <b>gpt-3.5-turbo-0125</b>\n",
    "- <b>gpt-3.5-turbo-1106</b>\n",
    "- <b>gpt-3.5-turbo-0613</b> (model not functioning during testing)"
   ]
  },
  {
   "cell_type": "code",
   "execution_count": 12,
   "metadata": {},
   "outputs": [
    {
     "data": {
      "text/plain": [
       "FineTuningJob(id='ftjob-8VAiHPyhnW7gIDJNp5ji8aZm', created_at=1731295020, error=Error(code=None, message=None, param=None), fine_tuned_model=None, finished_at=None, hyperparameters=Hyperparameters(n_epochs='auto', batch_size='auto', learning_rate_multiplier='auto'), model='gpt-3.5-turbo-0125', object='fine_tuning.job', organization_id='org-S652ryxRoR0nJQpnMy7g1xcm', result_files=[], seed=1372160539, status='validating_files', trained_tokens=None, training_file='file-NwP2wPPJskd1o7NRYF4a3k4U', validation_file='file-kJYVD13EjKaomidTppvhfbqS', estimated_finish=None, integrations=[], user_provided_suffix=None)"
      ]
     },
     "execution_count": 12,
     "metadata": {},
     "output_type": "execute_result"
    }
   ],
   "source": [
    "# insert created training and validation files from platform \n",
    "# along with model of choice to begin fine-tuning jobs\n",
    "client.fine_tuning.jobs.create(\n",
    "    training_file=\"file-NwP2wPPJskd1o7NRYF4a3k4U\",\n",
    "    validation_file=\"file-kJYVD13EjKaomidTppvhfbqS\",\n",
    "    model=\"gpt-3.5-turbo-0125\"\n",
    ")"
   ]
  },
  {
   "cell_type": "code",
   "execution_count": 13,
   "metadata": {},
   "outputs": [
    {
     "data": {
      "text/plain": [
       "FineTuningJob(id='ftjob-Mymd6RM7VvSJwOVBBpqNwx5p', created_at=1727979309, error=Error(code=None, message=None, param=None), fine_tuned_model='ft:gpt-4o-2024-08-06:personal::AELSRgXJ', finished_at=1727982438, hyperparameters=Hyperparameters(n_epochs=1, batch_size=10, learning_rate_multiplier=2), model='gpt-4o-2024-08-06', object='fine_tuning.job', organization_id='org-S652ryxRoR0nJQpnMy7g1xcm', result_files=['file-5gCTWySFk0MgmOZ2YjQvyEZJ'], seed=69129836, status='succeeded', trained_tokens=1277205, training_file='file-FpwsaDITa0co3Z4sNvzknGGX', validation_file=None, estimated_finish=None, integrations=[], user_provided_suffix=None)"
      ]
     },
     "execution_count": 13,
     "metadata": {},
     "output_type": "execute_result"
    }
   ],
   "source": [
    "# status check of fine-tuning jobs\n",
    "client.fine_tuning.jobs.retrieve(\"ftjob-Mymd6RM7VvSJwOVBBpqNwx5p\")"
   ]
  }
 ],
 "metadata": {
  "kernelspec": {
   "display_name": "env",
   "language": "python",
   "name": "python3"
  },
  "language_info": {
   "codemirror_mode": {
    "name": "ipython",
    "version": 3
   },
   "file_extension": ".py",
   "mimetype": "text/x-python",
   "name": "python",
   "nbconvert_exporter": "python",
   "pygments_lexer": "ipython3",
   "version": "3.10.11"
  }
 },
 "nbformat": 4,
 "nbformat_minor": 2
}
