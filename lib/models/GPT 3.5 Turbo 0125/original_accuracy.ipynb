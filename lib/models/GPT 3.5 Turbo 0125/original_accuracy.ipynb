{
 "cells": [
  {
   "cell_type": "code",
   "execution_count": 1,
   "metadata": {},
   "outputs": [],
   "source": [
    "import os\n",
    "import openai\n",
    "import pandas as pd\n",
    "import numpy as np\n",
    "import tiktoken\n",
    "from dotenv import load_dotenv\n",
    "from openai import OpenAI\n",
    "from sklearn.metrics import (\n",
    "    roc_auc_score,\n",
    "    accuracy_score,\n",
    "    f1_score,\n",
    "    precision_score\n",
    ")\n",
    "from sklearn.metrics import confusion_matrix, ConfusionMatrixDisplay"
   ]
  },
  {
   "cell_type": "markdown",
   "metadata": {},
   "source": [
    "#### Necessary pip installation commands include:\n",
    "- pip install os\n",
    "- pip install openai\n",
    "- pip install pandas\n",
    "- pip install numpy\n",
    "- pip install python-dotenv\n",
    "\n",
    "\n",
    "#### <b>Note</b>: have a <b>.env</b> file already created for accessing API key"
   ]
  },
  {
   "cell_type": "code",
   "execution_count": 2,
   "metadata": {},
   "outputs": [
    {
     "data": {
      "text/html": [
       "<div>\n",
       "<style scoped>\n",
       "    .dataframe tbody tr th:only-of-type {\n",
       "        vertical-align: middle;\n",
       "    }\n",
       "\n",
       "    .dataframe tbody tr th {\n",
       "        vertical-align: top;\n",
       "    }\n",
       "\n",
       "    .dataframe thead th {\n",
       "        text-align: right;\n",
       "    }\n",
       "</style>\n",
       "<table border=\"1\" class=\"dataframe\">\n",
       "  <thead>\n",
       "    <tr style=\"text-align: right;\">\n",
       "      <th></th>\n",
       "      <th>Text</th>\n",
       "      <th>Toxic</th>\n",
       "    </tr>\n",
       "  </thead>\n",
       "  <tbody>\n",
       "    <tr>\n",
       "      <th>0</th>\n",
       "      <td>Date When did this algorithm get invented ?</td>\n",
       "      <td>0</td>\n",
       "    </tr>\n",
       "    <tr>\n",
       "      <th>1</th>\n",
       "      <td>answered them many times ! but they didnt answ...</td>\n",
       "      <td>0</td>\n",
       "    </tr>\n",
       "    <tr>\n",
       "      <th>2</th>\n",
       "      <td>IAC There is a discussion on article 's talk p...</td>\n",
       "      <td>0</td>\n",
       "    </tr>\n",
       "    <tr>\n",
       "      <th>3</th>\n",
       "      <td>Spandam 's laugh ? I 'm listening to it and al...</td>\n",
       "      <td>0</td>\n",
       "    </tr>\n",
       "    <tr>\n",
       "      <th>4</th>\n",
       "      <td>AND HAVING A FUCKIN ' BITCH ASS DAY '' '</td>\n",
       "      <td>1</td>\n",
       "    </tr>\n",
       "    <tr>\n",
       "      <th>...</th>\n",
       "      <td>...</td>\n",
       "      <td>...</td>\n",
       "    </tr>\n",
       "    <tr>\n",
       "      <th>995</th>\n",
       "      <td>Oh , well Harry finally got his payback on me ...</td>\n",
       "      <td>1</td>\n",
       "    </tr>\n",
       "    <tr>\n",
       "      <th>996</th>\n",
       "      <td>this page is about random crap talk .. just ed...</td>\n",
       "      <td>1</td>\n",
       "    </tr>\n",
       "    <tr>\n",
       "      <th>997</th>\n",
       "      <td>I 've reverted the editsBOTH OF THEM VIOLATED ...</td>\n",
       "      <td>0</td>\n",
       "    </tr>\n",
       "    <tr>\n",
       "      <th>998</th>\n",
       "      <td>I used the exact same bullshit you wrote , hyp...</td>\n",
       "      <td>1</td>\n",
       "    </tr>\n",
       "    <tr>\n",
       "      <th>999</th>\n",
       "      <td>PLEASE STOP RUINING MY LEGITIMATE EDIT . THANK...</td>\n",
       "      <td>1</td>\n",
       "    </tr>\n",
       "  </tbody>\n",
       "</table>\n",
       "<p>1000 rows × 2 columns</p>\n",
       "</div>"
      ],
      "text/plain": [
       "                                                  Text Toxic\n",
       "0          Date When did this algorithm get invented ?     0\n",
       "1    answered them many times ! but they didnt answ...     0\n",
       "2    IAC There is a discussion on article 's talk p...     0\n",
       "3    Spandam 's laugh ? I 'm listening to it and al...     0\n",
       "4             AND HAVING A FUCKIN ' BITCH ASS DAY '' '     1\n",
       "..                                                 ...   ...\n",
       "995  Oh , well Harry finally got his payback on me ...     1\n",
       "996  this page is about random crap talk .. just ed...     1\n",
       "997  I 've reverted the editsBOTH OF THEM VIOLATED ...     0\n",
       "998  I used the exact same bullshit you wrote , hyp...     1\n",
       "999  PLEASE STOP RUINING MY LEGITIMATE EDIT . THANK...     1\n",
       "\n",
       "[1000 rows x 2 columns]"
      ]
     },
     "execution_count": 2,
     "metadata": {},
     "output_type": "execute_result"
    }
   ],
   "source": [
    "# retrieving dataset utilized for evaluation\n",
    "df = pd.read_csv('../../data/csv/semi_toxic_classification_evaluation_set.csv')\n",
    "df['Toxic'] = df['Toxic'].apply(lambda x: str(np.int64(x)))\n",
    "df"
   ]
  },
  {
   "cell_type": "code",
   "execution_count": 3,
   "metadata": {},
   "outputs": [],
   "source": [
    "# retrieving API Keys from OpenAI platform\n",
    "load_dotenv()\n",
    "# tokenizer for GPT-3.5 Turbo\n",
    "tokenizer = tiktoken.get_encoding(\"cl100k_base\")\n",
    "input_token_cost = ((0.50 / 1000000))\n",
    "output_token_cost = ((1.50 / 1000000))\n",
    "FINE_TUNED_TOXIC_DETECTION_API_KEY = os.getenv(\"FINE_TUNED_TOXIC_DETECTION_API_KEY\")\n",
    "REGULAR_TOXIC_DETECTION_API_KEY = os.getenv(\"REGULAR_TOXIC_DETECTION_API_KEY\")"
   ]
  },
  {
   "cell_type": "code",
   "execution_count": 4,
   "metadata": {},
   "outputs": [],
   "source": [
    "# instantiating client with API key\n",
    "general = OpenAI(\n",
    "    api_key=REGULAR_TOXIC_DETECTION_API_KEY\n",
    ")"
   ]
  },
  {
   "cell_type": "code",
   "execution_count": 5,
   "metadata": {},
   "outputs": [],
   "source": [
    "# creating container for holding model completions for comparison\n",
    "original = pd.DataFrame(columns=['Text', 'Toxic'])\n",
    "tokens = pd.DataFrame(columns=['Prompt', 'Input', 'Output', 'Total'])"
   ]
  },
  {
   "cell_type": "code",
   "execution_count": 6,
   "metadata": {},
   "outputs": [],
   "source": [
    "# processing original gpt-3.5-turbo-0125 model across entire dataset\n",
    "for index, row in df.iterrows():\n",
    "    completion = general.chat.completions.create(\n",
    "        model=\"gpt-3.5-turbo-0125\",\n",
    "        messages=[\n",
    "            {\n",
    "                \"role\": \"system\", \n",
    "                \"content\": \"Detect whether either is 1 for toxic or 0 for non-toxic\"\n",
    "            },\n",
    "            {\n",
    "                \"role\": \"user\",\n",
    "                \"content\": row['Text']\n",
    "            }\n",
    "        ]\n",
    "    )\n",
    "    original.loc[index] = [row['Text'], completion.choices[0].message.content]\n",
    "    tokens_object = {\n",
    "        'prompt': len(tokenizer.encode(\"Detect whether either is 1 for toxic or 0 for non-toxic\")),\n",
    "        'input': len(tokenizer.encode(f\"Detect whether either is 1 for toxic or 0 for non-toxic. {row['Text']}\")),\n",
    "        'output': len(tokenizer.encode(completion.choices[0].message.content))\n",
    "    }\n",
    "    total_tokens = tokens_object['input'] + tokens_object['output']\n",
    "    tokens.loc[index] = [tokens_object['prompt'], tokens_object['input'], tokens_object['output'], total_tokens]\n"
   ]
  },
  {
   "cell_type": "code",
   "execution_count": null,
   "metadata": {},
   "outputs": [
    {
     "data": {
      "text/html": [
       "<div>\n",
       "<style scoped>\n",
       "    .dataframe tbody tr th:only-of-type {\n",
       "        vertical-align: middle;\n",
       "    }\n",
       "\n",
       "    .dataframe tbody tr th {\n",
       "        vertical-align: top;\n",
       "    }\n",
       "\n",
       "    .dataframe thead th {\n",
       "        text-align: right;\n",
       "    }\n",
       "</style>\n",
       "<table border=\"1\" class=\"dataframe\">\n",
       "  <thead>\n",
       "    <tr style=\"text-align: right;\">\n",
       "      <th></th>\n",
       "      <th>Prompt</th>\n",
       "      <th>Input</th>\n",
       "      <th>Output</th>\n",
       "      <th>Total</th>\n",
       "    </tr>\n",
       "  </thead>\n",
       "  <tbody>\n",
       "    <tr>\n",
       "      <th>0</th>\n",
       "      <td>15</td>\n",
       "      <td>24</td>\n",
       "      <td>1</td>\n",
       "      <td>25</td>\n",
       "    </tr>\n",
       "    <tr>\n",
       "      <th>1</th>\n",
       "      <td>15</td>\n",
       "      <td>36</td>\n",
       "      <td>2</td>\n",
       "      <td>38</td>\n",
       "    </tr>\n",
       "    <tr>\n",
       "      <th>2</th>\n",
       "      <td>15</td>\n",
       "      <td>29</td>\n",
       "      <td>9</td>\n",
       "      <td>38</td>\n",
       "    </tr>\n",
       "    <tr>\n",
       "      <th>3</th>\n",
       "      <td>15</td>\n",
       "      <td>47</td>\n",
       "      <td>9</td>\n",
       "      <td>56</td>\n",
       "    </tr>\n",
       "    <tr>\n",
       "      <th>4</th>\n",
       "      <td>15</td>\n",
       "      <td>29</td>\n",
       "      <td>1</td>\n",
       "      <td>30</td>\n",
       "    </tr>\n",
       "    <tr>\n",
       "      <th>...</th>\n",
       "      <td>...</td>\n",
       "      <td>...</td>\n",
       "      <td>...</td>\n",
       "      <td>...</td>\n",
       "    </tr>\n",
       "    <tr>\n",
       "      <th>995</th>\n",
       "      <td>15</td>\n",
       "      <td>182</td>\n",
       "      <td>2</td>\n",
       "      <td>184</td>\n",
       "    </tr>\n",
       "    <tr>\n",
       "      <th>996</th>\n",
       "      <td>15</td>\n",
       "      <td>28</td>\n",
       "      <td>1</td>\n",
       "      <td>29</td>\n",
       "    </tr>\n",
       "    <tr>\n",
       "      <th>997</th>\n",
       "      <td>15</td>\n",
       "      <td>34</td>\n",
       "      <td>7</td>\n",
       "      <td>41</td>\n",
       "    </tr>\n",
       "    <tr>\n",
       "      <th>998</th>\n",
       "      <td>15</td>\n",
       "      <td>28</td>\n",
       "      <td>5</td>\n",
       "      <td>33</td>\n",
       "    </tr>\n",
       "    <tr>\n",
       "      <th>999</th>\n",
       "      <td>15</td>\n",
       "      <td>34</td>\n",
       "      <td>2</td>\n",
       "      <td>36</td>\n",
       "    </tr>\n",
       "  </tbody>\n",
       "</table>\n",
       "<p>1000 rows × 4 columns</p>\n",
       "</div>"
      ],
      "text/plain": [
       "     Prompt  Input  Output  Total\n",
       "0        15     24       1     25\n",
       "1        15     36       2     38\n",
       "2        15     29       9     38\n",
       "3        15     47       9     56\n",
       "4        15     29       1     30\n",
       "..      ...    ...     ...    ...\n",
       "995      15    182       2    184\n",
       "996      15     28       1     29\n",
       "997      15     34       7     41\n",
       "998      15     28       5     33\n",
       "999      15     34       2     36\n",
       "\n",
       "[1000 rows x 4 columns]"
      ]
     },
     "execution_count": 7,
     "metadata": {},
     "output_type": "execute_result"
    }
   ],
   "source": [
    "tokens"
   ]
  },
  {
   "cell_type": "code",
   "execution_count": null,
   "metadata": {},
   "outputs": [
    {
     "data": {
      "text/html": [
       "<div>\n",
       "<style scoped>\n",
       "    .dataframe tbody tr th:only-of-type {\n",
       "        vertical-align: middle;\n",
       "    }\n",
       "\n",
       "    .dataframe tbody tr th {\n",
       "        vertical-align: top;\n",
       "    }\n",
       "\n",
       "    .dataframe thead th {\n",
       "        text-align: right;\n",
       "    }\n",
       "</style>\n",
       "<table border=\"1\" class=\"dataframe\">\n",
       "  <thead>\n",
       "    <tr style=\"text-align: right;\">\n",
       "      <th></th>\n",
       "      <th>Text</th>\n",
       "      <th>Toxic</th>\n",
       "    </tr>\n",
       "  </thead>\n",
       "  <tbody>\n",
       "    <tr>\n",
       "      <th>0</th>\n",
       "      <td>Date When did this algorithm get invented ?</td>\n",
       "      <td>0</td>\n",
       "    </tr>\n",
       "    <tr>\n",
       "      <th>1</th>\n",
       "      <td>answered them many times ! but they didnt answ...</td>\n",
       "      <td>Toxic</td>\n",
       "    </tr>\n",
       "    <tr>\n",
       "      <th>2</th>\n",
       "      <td>IAC There is a discussion on article 's talk p...</td>\n",
       "      <td>This statement does not contain any toxic lang...</td>\n",
       "    </tr>\n",
       "    <tr>\n",
       "      <th>3</th>\n",
       "      <td>Spandam 's laugh ? I 'm listening to it and al...</td>\n",
       "      <td>This text does not contain any toxic content.</td>\n",
       "    </tr>\n",
       "    <tr>\n",
       "      <th>4</th>\n",
       "      <td>AND HAVING A FUCKIN ' BITCH ASS DAY '' '</td>\n",
       "      <td>1</td>\n",
       "    </tr>\n",
       "    <tr>\n",
       "      <th>...</th>\n",
       "      <td>...</td>\n",
       "      <td>...</td>\n",
       "    </tr>\n",
       "    <tr>\n",
       "      <th>995</th>\n",
       "      <td>Oh , well Harry finally got his payback on me ...</td>\n",
       "      <td>Toxic</td>\n",
       "    </tr>\n",
       "    <tr>\n",
       "      <th>996</th>\n",
       "      <td>this page is about random crap talk .. just ed...</td>\n",
       "      <td>1</td>\n",
       "    </tr>\n",
       "    <tr>\n",
       "      <th>997</th>\n",
       "      <td>I 've reverted the editsBOTH OF THEM VIOLATED ...</td>\n",
       "      <td>Both sentences are non-toxic.</td>\n",
       "    </tr>\n",
       "    <tr>\n",
       "      <th>998</th>\n",
       "      <td>I used the exact same bullshit you wrote , hyp...</td>\n",
       "      <td>Toxic: 1</td>\n",
       "    </tr>\n",
       "    <tr>\n",
       "      <th>999</th>\n",
       "      <td>PLEASE STOP RUINING MY LEGITIMATE EDIT . THANK...</td>\n",
       "      <td>Toxic</td>\n",
       "    </tr>\n",
       "  </tbody>\n",
       "</table>\n",
       "<p>1000 rows × 2 columns</p>\n",
       "</div>"
      ],
      "text/plain": [
       "                                                  Text  \\\n",
       "0          Date When did this algorithm get invented ?   \n",
       "1    answered them many times ! but they didnt answ...   \n",
       "2    IAC There is a discussion on article 's talk p...   \n",
       "3    Spandam 's laugh ? I 'm listening to it and al...   \n",
       "4             AND HAVING A FUCKIN ' BITCH ASS DAY '' '   \n",
       "..                                                 ...   \n",
       "995  Oh , well Harry finally got his payback on me ...   \n",
       "996  this page is about random crap talk .. just ed...   \n",
       "997  I 've reverted the editsBOTH OF THEM VIOLATED ...   \n",
       "998  I used the exact same bullshit you wrote , hyp...   \n",
       "999  PLEASE STOP RUINING MY LEGITIMATE EDIT . THANK...   \n",
       "\n",
       "                                                 Toxic  \n",
       "0                                                    0  \n",
       "1                                                Toxic  \n",
       "2    This statement does not contain any toxic lang...  \n",
       "3        This text does not contain any toxic content.  \n",
       "4                                                    1  \n",
       "..                                                 ...  \n",
       "995                                              Toxic  \n",
       "996                                                  1  \n",
       "997                      Both sentences are non-toxic.  \n",
       "998                                           Toxic: 1  \n",
       "999                                              Toxic  \n",
       "\n",
       "[1000 rows x 2 columns]"
      ]
     },
     "execution_count": 8,
     "metadata": {},
     "output_type": "execute_result"
    }
   ],
   "source": [
    "original"
   ]
  },
  {
   "cell_type": "code",
   "execution_count": null,
   "metadata": {},
   "outputs": [],
   "source": [
    "original = original['Toxic']\n",
    "predictions = df['Toxic']"
   ]
  },
  {
   "cell_type": "code",
   "execution_count": null,
   "metadata": {},
   "outputs": [],
   "source": [
    "# comparing results of model to dataset\n",
    "compare = original == predictions\n",
    "gptthreefive_original_accuracy = compare.values.sum() / compare.size"
   ]
  },
  {
   "cell_type": "code",
   "execution_count": null,
   "metadata": {},
   "outputs": [
    {
     "data": {
      "text/plain": [
       "0       True\n",
       "1      False\n",
       "2      False\n",
       "3      False\n",
       "4       True\n",
       "       ...  \n",
       "995    False\n",
       "996     True\n",
       "997    False\n",
       "998    False\n",
       "999    False\n",
       "Name: Toxic, Length: 1000, dtype: bool"
      ]
     },
     "execution_count": 11,
     "metadata": {},
     "output_type": "execute_result"
    }
   ],
   "source": [
    "compare"
   ]
  },
  {
   "cell_type": "code",
   "execution_count": null,
   "metadata": {},
   "outputs": [
    {
     "name": "stdout",
     "output_type": "stream",
     "text": [
      "Accuracy: 28.70%\n"
     ]
    }
   ],
   "source": [
    "# gpt-3.5-turbo-0125 model accuracy 28.70%\n",
    "print(f\"Accuracy: {gptthreefive_original_accuracy * 100:.2f}%\")"
   ]
  },
  {
   "cell_type": "code",
   "execution_count": null,
   "metadata": {},
   "outputs": [
    {
     "data": {
      "text/plain": [
       "0.042138499999999995"
      ]
     },
     "execution_count": 13,
     "metadata": {},
     "output_type": "execute_result"
    }
   ],
   "source": [
    "# total token input cost: $0.042138499999999995\n",
    "(tokens['Input'].sum() * input_token_cost)"
   ]
  },
  {
   "cell_type": "code",
   "execution_count": null,
   "metadata": {},
   "outputs": [
    {
     "data": {
      "text/plain": [
       "0.011628"
      ]
     },
     "execution_count": 14,
     "metadata": {},
     "output_type": "execute_result"
    }
   ],
   "source": [
    "# total token output cost: $0.011628\n",
    "(tokens['Output'].sum() * output_token_cost)"
   ]
  },
  {
   "cell_type": "code",
   "execution_count": null,
   "metadata": {},
   "outputs": [
    {
     "data": {
      "text/plain": [
       "0.053766499999999995"
      ]
     },
     "execution_count": 15,
     "metadata": {},
     "output_type": "execute_result"
    }
   ],
   "source": [
    "# complete total token cost: $0.053766499999999995\n",
    "(tokens['Input'].sum() * input_token_cost) + (tokens['Output'].sum() * output_token_cost)"
   ]
  },
  {
   "cell_type": "code",
   "execution_count": null,
   "metadata": {},
   "outputs": [
    {
     "data": {
      "text/plain": [
       "92029"
      ]
     },
     "execution_count": 16,
     "metadata": {},
     "output_type": "execute_result"
    }
   ],
   "source": [
    "# 92029\n",
    "tokens['Total'].sum()"
   ]
  }
 ],
 "metadata": {
  "kernelspec": {
   "display_name": "env",
   "language": "python",
   "name": "python3"
  },
  "language_info": {
   "codemirror_mode": {
    "name": "ipython",
    "version": 3
   },
   "file_extension": ".py",
   "mimetype": "text/x-python",
   "name": "python",
   "nbconvert_exporter": "python",
   "pygments_lexer": "ipython3",
   "version": "3.10.11"
  }
 },
 "nbformat": 4,
 "nbformat_minor": 2
}
