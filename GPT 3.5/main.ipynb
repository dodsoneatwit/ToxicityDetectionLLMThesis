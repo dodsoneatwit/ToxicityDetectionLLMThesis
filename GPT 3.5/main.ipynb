{
 "cells": [
  {
   "cell_type": "code",
   "execution_count": 1,
   "metadata": {},
   "outputs": [],
   "source": [
    "# API KEY: sk-82F0fUi3hSi_drnaRG9Z72jEbFbIqPdYHHClASd7kET3BlbkFJJqxRZ40hP-p3XxjBMCQK3qUT40AmziQLi9Vz5WIcIA\n",
    "# ORG ID: org-rjJCwF3sTsfOnw3I2Eaj4zdP\n",
    "import json\n",
    "import re\n",
    "import math\n",
    "import pandas as pd\n",
    "import nltk\n",
    "from nltk.corpus import stopwords\n",
    "from nltk.tokenize import word_tokenize, sent_tokenize\n",
    "\n",
    "stop_words = set(stopwords.words('english'))"
   ]
  },
  {
   "cell_type": "code",
   "execution_count": 11,
   "metadata": {},
   "outputs": [
    {
     "data": {
      "text/plain": [
       "100"
      ]
     },
     "execution_count": 11,
     "metadata": {},
     "output_type": "execute_result"
    }
   ],
   "source": [
    "# toxic_classification.to_csv('../data/processed_toxic_classification_dataset_full.csv', index=False)\n",
    "toxic_classification = pd.read_csv('../data/csv/processed_toxic_classification_dataset_full.csv')\n",
    "toxic_classification = toxic_classification.sample(frac=0.1, random_state=42)\n",
    "partial = toxic_classification.iloc[:100]\n",
    "len(partial)"
   ]
  },
  {
   "cell_type": "code",
   "execution_count": 7,
   "metadata": {},
   "outputs": [],
   "source": [
    "# short = toxic_classification[:1000]\n",
    "# short.to_csv('../data/processed_toxic_classification_dataset_short.csv', index=False)"
   ]
  },
  {
   "cell_type": "code",
   "execution_count": 12,
   "metadata": {},
   "outputs": [],
   "source": [
    "training_json = []"
   ]
  },
  {
   "cell_type": "code",
   "execution_count": 13,
   "metadata": {},
   "outputs": [],
   "source": [
    "for index, row in partial.iterrows():\n",
    "    training_json.append({\n",
    "        \"messages\" : [\n",
    "            {\n",
    "                \"role\": \"system\", \n",
    "                \"content\": \"Your job is to detect toxicity from a non-biased viewpoint and label prompted content as either toxic or non-toxic.\"\n",
    "            },\n",
    "            {\n",
    "                \"role\": \"user\",\n",
    "                \"content\": row['Text']\n",
    "            },\n",
    "            {\n",
    "                \"role\": \"assistant\",\n",
    "                \"content\": str(row['Toxic'])\n",
    "            },\n",
    "        ]\n",
    "    })"
   ]
  },
  {
   "cell_type": "code",
   "execution_count": 14,
   "metadata": {},
   "outputs": [
    {
     "data": {
      "text/plain": [
       "50"
      ]
     },
     "execution_count": 14,
     "metadata": {},
     "output_type": "execute_result"
    }
   ],
   "source": [
    "half = math.floor(len(training_json) / 2)\n",
    "half"
   ]
  },
  {
   "cell_type": "code",
   "execution_count": 15,
   "metadata": {},
   "outputs": [],
   "source": [
    "training = training_json[:half]\n",
    "validation = training_json[half + 1:]"
   ]
  },
  {
   "cell_type": "code",
   "execution_count": 16,
   "metadata": {},
   "outputs": [],
   "source": [
    "with open('../data/training_small_kaggle_toxic_classification_dataset.jsonl', 'w') as f:\n",
    "    for entry in training:\n",
    "        f.write(f\"{json.dumps(entry)}\\n\")"
   ]
  },
  {
   "cell_type": "code",
   "execution_count": 17,
   "metadata": {},
   "outputs": [],
   "source": [
    "with open('../data/validation_small_kaggle_toxic_classification_dataset.jsonl', 'w') as f:\n",
    "    for entry in validation:\n",
    "        f.write(f\"{json.dumps(entry)}\\n\")"
   ]
  },
  {
   "cell_type": "code",
   "execution_count": null,
   "metadata": {},
   "outputs": [],
   "source": []
  }
 ],
 "metadata": {
  "kernelspec": {
   "display_name": "env",
   "language": "python",
   "name": "python3"
  },
  "language_info": {
   "codemirror_mode": {
    "name": "ipython",
    "version": 3
   },
   "file_extension": ".py",
   "mimetype": "text/x-python",
   "name": "python",
   "nbconvert_exporter": "python",
   "pygments_lexer": "ipython3",
   "version": "3.10.11"
  }
 },
 "nbformat": 4,
 "nbformat_minor": 2
}
